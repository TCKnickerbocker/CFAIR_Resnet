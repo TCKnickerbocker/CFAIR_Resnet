{
  "cells": [
    {
      "cell_type": "markdown",
      "metadata": {
        "id": "kyewiY-eflUq"
      },
      "source": [
        "# Testing the Resnet NN on CFAIR-10 Images:"
      ]
    },
    {
      "cell_type": "markdown",
      "metadata": {},
      "source": [
        "## Import libraries, setup dataset:"
      ]
    },
    {
      "cell_type": "code",
      "execution_count": 1,
      "metadata": {
        "id": "B5eEJWZ-aaje"
      },
      "outputs": [],
      "source": [
        "import torch\n",
        "import torch.nn as nn\n",
        "import torch.nn.functional as F\n",
        "import pandas as pd\n",
        "import matplotlib.pyplot as plt \n",
        "import seaborn as sns\n",
        "import numpy as np\n",
        "from sklearn.metrics import confusion_matrix\n",
        "import torchvision\n",
        "import torchvision.datasets as dsets\n",
        "import torchvision.transforms as transforms"
      ]
    },
    {
      "cell_type": "code",
      "execution_count": 20,
      "metadata": {
        "colab": {
          "base_uri": "https://localhost:8080/"
        },
        "id": "qMkFhbOEasrx",
        "outputId": "5e4900b1-5100-4204-92f9-115e9d648578"
      },
      "outputs": [
        {
          "name": "stdout",
          "output_type": "stream",
          "text": [
            "Files already downloaded and verified\n",
            "Files already downloaded and verified\n"
          ]
        }
      ],
      "source": [
        "classes = ('plane', 'car', 'bird', 'cat',\n",
        "           'deer', 'dog', 'frog', 'horse', 'ship', 'truck')\n",
        "\n",
        "image_w = 32\n",
        "image_h = 32\n",
        "\n",
        "transform = transforms.Compose(\n",
        "    [transforms.ToTensor(),\n",
        "     transforms.Normalize((0.5, 0.5, 0.5), (0.5, 0.5, 0.5))]) #RGB mean and std. dev\n",
        "\n",
        "testing_dataset = torchvision.datasets.CIFAR10(root='./data', train=False,\n",
        "                                       download=True, transform=transform)\n",
        "\n",
        "transform_test = transforms.Compose([\n",
        "    transforms.ToTensor(),\n",
        "    transforms.Normalize(mean=[0.5, 0.5, 0.5], std=[0.5, 0.5, 0.5])\n",
        "])\n",
        "\n",
        "# Load testing data\n",
        "testing_dataset_augment = torchvision.datasets.CIFAR10(root='./data', train=False, download=True, transform=transform_test)\n",
        "testing_generator = torch.utils.data.DataLoader(testing_dataset, batch_size=500, shuffle=False)"
      ]
    },
    {
      "cell_type": "markdown",
      "metadata": {},
      "source": [
        "## Re-Declare ResNet Structure:"
      ]
    },
    {
      "cell_type": "code",
      "execution_count": 3,
      "metadata": {
        "id": "Q_v46G-kbi7y"
      },
      "outputs": [],
      "source": [
        "class Conv_block_batch_norm(nn.Module):\n",
        "  def __init__(self, channels_in, channels_out):\n",
        "      super().__init__()  \n",
        "      ks = 3\n",
        "      self.conv = nn.Conv2d(channels_in, channels_out,kernel_size=ks, padding=1, stride=1) #Passing = 1 -> no shrinking\n",
        "      self.bn = nn.BatchNorm2d(channels_out)\n",
        "  \n",
        "  def forward(self, x):       # Forward pass which defines how the layers relate the input x to the output out\n",
        "      x = self.conv(x)\n",
        "      x = F.gelu(x)         # We could relu here, I'm not sure if it helps.\n",
        "      x = self.bn(x)                               \n",
        "      x = F.max_pool2d(x,kernel_size=2)\n",
        "      x = F.gelu(x)\n",
        "      return x"
      ]
    },
    {
      "cell_type": "code",
      "execution_count": 4,
      "metadata": {
        "id": "TYQ4of_dbldY"
      },
      "outputs": [],
      "source": [
        "class Conv_residual_block_gelu(nn.Module):\n",
        "    def __init__(self, channels_in_out):\n",
        "        super().__init__()  \n",
        "        ks = 3\n",
        "        self.conv1 = nn.Conv2d(channels_in_out, channels_in_out, kernel_size=ks, padding=1, stride=1)\n",
        "        self.conv2 = nn.Conv2d(channels_in_out, channels_in_out, kernel_size=ks, padding=1, stride=1)\n",
        "        self.pool = nn.MaxPool2d(2, 2)\n",
        "        self.bn = nn.BatchNorm2d(channels_in_out)\n",
        "\n",
        "    def forward(self, x):       # Forward pass which defines how the layers relate the input x to the output out\n",
        "        x = self.bn(x)\n",
        "        resid = x\n",
        "        x = self.conv1(x)\n",
        "        x = F.gelu(x)    \n",
        "        \n",
        "        x = self.conv2(x)\n",
        "        x = F.gelu(x)     \n",
        "        return x + resid\n"
      ]
    },
    {
      "cell_type": "code",
      "execution_count": 5,
      "metadata": {
        "id": "eaFEWlO5bhWd"
      },
      "outputs": [],
      "source": [
        "class Conv_Res_Net_basic(nn.Module):\n",
        "  def __init__(self, img_w, img_h, num_classes):\n",
        "    super().__init__()  \n",
        "    num_kernels1 = 64\n",
        "    num_kernels2 = 128\n",
        "    num_kernels3 = 256\n",
        "    #-- Block 1\n",
        "    self.conv_block1 = Conv_block_batch_norm(3,num_kernels1)     \n",
        "    img_w = img_w//2 #Max pool shrinks size 2x\n",
        "    img_h = img_h//2\n",
        "    self.residual_block_1a = Conv_residual_block_gelu(num_kernels1)  #Kernel size does not change\n",
        "    self.residual_block_1b = Conv_residual_block_gelu(num_kernels1)\n",
        "    self.residual_block_1c = Conv_residual_block_gelu(num_kernels1)\n",
        "    self.residual_block_1c = Conv_residual_block_gelu(num_kernels1)\n",
        "\n",
        "    #-- Block 2\n",
        "    self.conv_block2 = Conv_block_batch_norm(num_kernels1,num_kernels2)   \n",
        "    img_w = img_w//2 #Max pool shrinks size 2x\n",
        "    img_h = img_h//2\n",
        "    self.residual_block_2a = Conv_residual_block_gelu(num_kernels2)  #Kernel size does not change\n",
        "    self.residual_block_2b = Conv_residual_block_gelu(num_kernels2)\n",
        "    self.residual_block_2c = Conv_residual_block_gelu(num_kernels2)\n",
        "    self.residual_block_2d = Conv_residual_block_gelu(num_kernels2)  #Kernel size does not change\n",
        "    self.residual_block_2e = Conv_residual_block_gelu(num_kernels2)\n",
        "    # self.residual_block_2f = Conv_residual_block_gelu(num_kernels2)\n",
        "  \n",
        "    #-- Block 3\n",
        "    self.conv_block3 = Conv_block_batch_norm(num_kernels2,num_kernels3)  \n",
        "    img_w = img_w//2 #Max pool shrinks size 2x\n",
        "    img_h = img_h//2\n",
        "    self.residual_block_3a = Conv_residual_block_gelu(num_kernels3)  #Kernel size does not change\n",
        "    self.residual_block_3b = Conv_residual_block_gelu(num_kernels3)\n",
        "    self.residual_block_3c = Conv_residual_block_gelu(num_kernels3)\n",
        "    self.residual_block_3d = Conv_residual_block_gelu(num_kernels3)\n",
        "    # self.residual_block_3e = Conv_residual_block_gelu(num_kernels3)\n",
        "    # self.residual_block_3f = Conv_residual_block_gelu(num_kernels3)\n",
        "\n",
        "    #-- Classifier\n",
        "    self.flattened_dim = (img_w*img_h) * num_kernels3\n",
        "    self.linear = nn.Linear(self.flattened_dim, num_classes)\n",
        "  \n",
        "  def forward(self, x):       # Forward pass which defines how the layers relate the input x to the output out\n",
        "    #-- Block 1 --\n",
        "    x = self.conv_block1(x)\n",
        "    x = self.residual_block_1a(x)   # You can have as many of these fixed width blocks as you want in a row\n",
        "    x = self.residual_block_1b(x)\n",
        "    x = self.residual_block_1c(x)   \n",
        "    #-- Block 2 --\n",
        "    x = self.conv_block2(x)\n",
        "    x = self.residual_block_2a(x)   # You can have as many of these fixed width blocks as you want in a row\n",
        "    x = self.residual_block_2b(x)\n",
        "    x = self.residual_block_2c(x)   \n",
        "    x = self.residual_block_2d(x)   # You can have as many of these fixed width blocks as you want in a row\n",
        "    x = self.residual_block_2e(x)\n",
        "    # x = self.residual_block_2f(x)  \n",
        "    #-- Block 3 --\n",
        "    x = self.conv_block3(x)\n",
        "    x = self.residual_block_3a(x)   # You can have as many of these fixed width blocks as you want in a row\n",
        "    x = self.residual_block_3b(x)\n",
        "    x = self.residual_block_3c(x)   \n",
        "    x = self.residual_block_3d(x)  \n",
        "    # x = self.residual_block_3e(x)   \n",
        "    # x = self.residual_block_3f(x)   \n",
        "\n",
        "    #-- Linear Classifier --\n",
        "    x = x.view(-1, self.flattened_dim)\n",
        "    x = self.linear(x)\n",
        "    \n",
        "    return x"
      ]
    },
    {
      "cell_type": "code",
      "execution_count": 6,
      "metadata": {
        "colab": {
          "base_uri": "https://localhost:8080/"
        },
        "id": "yRKEKOUXcBPQ",
        "outputId": "9c885525-cdad-4592-d152-40660d28c4bd"
      },
      "outputs": [
        {
          "name": "stdout",
          "output_type": "stream",
          "text": [
            "Using GPU?: True\n",
            "GPU Name: Tesla T4\n"
          ]
        }
      ],
      "source": [
        "use_cuda = torch.cuda.is_available()\n",
        "print(\"Using GPU?:\",use_cuda)\n",
        "if (use_cuda):\n",
        "  print(\"GPU Name:\",torch.cuda.get_device_name())\n",
        "  device = torch.device(\"cuda\")\n",
        "else:\n",
        "  device = torch.device(\"cpu\")"
      ]
    },
    {
      "cell_type": "code",
      "execution_count": 28,
      "metadata": {
        "colab": {
          "base_uri": "https://localhost:8080/"
        },
        "id": "d0utrlsihygH",
        "outputId": "e8e53971-7a4d-4e8d-a2df-051189c7a20e"
      },
      "outputs": [
        {
          "name": "stdout",
          "output_type": "stream",
          "text": [
            "Files already downloaded and verified\n"
          ]
        }
      ],
      "source": [
        "transform = transforms.Compose([\n",
        "    transforms.ToTensor(),\n",
        "    transforms.Normalize((0.5, 0.5, 0.5), (0.5, 0.5, 0.5))\n",
        "])\n",
        "\n",
        "# Load the test dataset\n",
        "test_dataset = torchvision.datasets.CIFAR10(root='./data', train=False, download=True, transform=transform)"
      ]
    },
    {
      "cell_type": "markdown",
      "metadata": {
        "id": "-PLr-iuxfowR"
      },
      "source": [
        "## Load and test the model:"
      ]
    },
    {
      "cell_type": "code",
      "execution_count": 31,
      "metadata": {
        "colab": {
          "base_uri": "https://localhost:8080/"
        },
        "id": "feQYshbrftsQ",
        "outputId": "57de5467-954f-431a-9f29-a0de806f03d8"
      },
      "outputs": [
        {
          "data": {
            "text/plain": [
              "<All keys matched successfully>"
            ]
          },
          "execution_count": 31,
          "metadata": {},
          "output_type": "execute_result"
        }
      ],
      "source": [
        "network = Conv_Res_Net_basic(image_w, image_h, 10)\n",
        "network.load_state_dict(torch.load('./best_model.pt'))\n",
        "# network = network.to(device)"
      ]
    },
    {
      "cell_type": "code",
      "execution_count": 36,
      "metadata": {
        "colab": {
          "base_uri": "https://localhost:8080/"
        },
        "id": "QoGAvqSBdpcO",
        "outputId": "d5b048c1-5c10-4b46-fce1-43b02339f5db"
      },
      "outputs": [
        {
          "name": "stdout",
          "output_type": "stream",
          "text": [
            "Accuracy: 0.7891\n",
            "Confusion matrix:\n",
            "[[779  11  66  22  30   1   6  12  57  16]\n",
            " [ 13 900   3   6   4   3   1   3  21  46]\n",
            " [ 48   3 752  48  59  34  27  22   5   2]\n",
            " [  8   7  72 642  77  88  68  21  10   7]\n",
            " [ 13   2  70  52 777  13  21  42   9   1]\n",
            " [  8   3  50 184  47 644  14  43   4   3]\n",
            " [  3   5  57  37  22   9 857   4   4   2]\n",
            " [  7   0  21  45  55  26   5 835   3   3]\n",
            " [ 43  14  11   7   6   0   4   6 901   8]\n",
            " [ 45  76  11  13   7   2   1  11  30 804]]\n"
          ]
        }
      ],
      "source": [
        "network.eval()\n",
        "allPreds, allTargs = [], []\n",
        "\n",
        "# Predict\n",
        "with torch.no_grad():\n",
        "    for img, label in test_dataset:\n",
        "        output = network(img.unsqueeze(0))\n",
        "        _, pred = torch.max(output.data, 1)\n",
        "        allPreds.append(pred.item())\n",
        "        allTargs.append(label)\n",
        "\n",
        "# Get accuracy, display confusion matrix\n",
        "accuracy = sum([1 if allPreds[i] == allTargs[i] else 0 for i in range(len(allPreds))]) \n",
        "accuracy/= len(allPreds)\n",
        "print(f\"Accuracy: {accuracy}\")\n",
        "\n",
        "cm = confusion_matrix(allTargs, allPreds)\n",
        "print(f\"Confusion matrix:\\n{cm}\")"
      ]
    },
    {
      "cell_type": "code",
      "execution_count": 35,
      "metadata": {
        "colab": {
          "base_uri": "https://localhost:8080/"
        },
        "id": "gREMyLaPi1Qv",
        "outputId": "91013675-7991-4565-c226-44958223db45"
      },
      "outputs": [
        {
          "name": "stdout",
          "output_type": "stream",
          "text": [
            "('plane', 'car', 'bird', 'cat', 'deer', 'dog', 'frog', 'horse', 'ship', 'truck')\n"
          ]
        }
      ],
      "source": [
        "print(classes)"
      ]
    },
    {
      "cell_type": "markdown",
      "metadata": {},
      "source": [
        "### The model had an accuracy of 80% when tested in its own file and ~78-79 when loaded into a separate file."
      ]
    }
  ],
  "metadata": {
    "accelerator": "GPU",
    "colab": {
      "provenance": []
    },
    "gpuClass": "standard",
    "kernelspec": {
      "display_name": "Python 3",
      "name": "python3"
    },
    "language_info": {
      "name": "python"
    }
  },
  "nbformat": 4,
  "nbformat_minor": 0
}
